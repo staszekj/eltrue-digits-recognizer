{
 "cells": [
  {
   "cell_type": "code",
   "execution_count": 1,
   "metadata": {},
   "outputs": [],
   "source": [
    "import pandas as pd\n",
    "import numpy as np\n",
    "import matplotlib.pyplot as plt\n",
    "import tensorflow as tf\n",
    "\n",
    "# Load dataset\n",
    "mnist = tf.keras.datasets.mnist\n",
    "\n",
    "(x_train, y_train), (x_test, y_test) = mnist.load_data()\n",
    "x_train, x_test = x_train / 255.0, x_test / 255.0\n",
    "\n",
    "aplha = 0.1;\n",
    "trainingId = 0;\n",
    "\n",
    "def sigmoid(x):\n",
    "    return 1.0 / (1.0 + np.exp(-x))\n",
    "\n",
    "X = x_train[trainingId].reshape(-1,1)\n",
    "Y = np.empty((10, 1));\n",
    "W3 = np.random.rand(Y.size, X.size);\n",
    "B3 = np.random.rand(Y.size, 1);\n",
    "A3 = W3 @ X + B3;\n",
    "Y = sigmoid(A3);\n",
    "correctY = np.zeros((Y.size,1));\n",
    "correctY[y_train[trainingId]] = 1;\n",
    "dY = correctY - Y;\n",
    "dW3 = 2/Y.size * W3 * dY * X.T;\n",
    "W3 = W3 * aplha * dW3;\n",
    "\n"
   ]
  }
 ],
 "metadata": {
  "kernelspec": {
   "display_name": "Python 3",
   "language": "python",
   "name": "python3"
  },
  "language_info": {
   "codemirror_mode": {
    "name": "ipython",
    "version": 3
   },
   "file_extension": ".py",
   "mimetype": "text/x-python",
   "name": "python",
   "nbconvert_exporter": "python",
   "pygments_lexer": "ipython3",
   "version": "3.11.5"
  }
 },
 "nbformat": 4,
 "nbformat_minor": 2
}
